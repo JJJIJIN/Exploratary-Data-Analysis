{
 "cells": [
  {
   "cell_type": "code",
   "execution_count": 1,
   "id": "5839f0a7-bbc9-4c87-b541-b786d642445d",
   "metadata": {},
   "outputs": [
    {
     "name": "stderr",
     "output_type": "stream",
     "text": [
      "C:\\Users\\jijin\\AppData\\Local\\Temp\\ipykernel_5284\\1088160451.py:5: MatplotlibDeprecationWarning: The seaborn styles shipped by Matplotlib are deprecated since 3.6, as they no longer correspond to the styles shipped by seaborn. However, they will remain available as 'seaborn-v0_8-<style>'. Alternatively, directly use the seaborn API instead.\n",
      "  plt.style.use('seaborn')\n"
     ]
    }
   ],
   "source": [
    "import pandas as pd\n",
    "import numpy as np\n",
    "import seaborn as sns\n",
    "import matplotlib.pyplot as plt\n",
    "plt.style.use('seaborn')\n",
    "import plotly.express as px"
   ]
  },
  {
   "cell_type": "code",
   "execution_count": 2,
   "id": "fbbc2126-a540-42f9-90a3-bda2facb9651",
   "metadata": {},
   "outputs": [],
   "source": [
    "data=pd.read_csv('pokemon.csv')"
   ]
  },
  {
   "cell_type": "code",
   "execution_count": 3,
   "id": "64bf26f8-69cb-48ce-ad00-11f75a26d231",
   "metadata": {},
   "outputs": [
    {
     "data": {
      "text/html": [
       "<div>\n",
       "<style scoped>\n",
       "    .dataframe tbody tr th:only-of-type {\n",
       "        vertical-align: middle;\n",
       "    }\n",
       "\n",
       "    .dataframe tbody tr th {\n",
       "        vertical-align: top;\n",
       "    }\n",
       "\n",
       "    .dataframe thead th {\n",
       "        text-align: right;\n",
       "    }\n",
       "</style>\n",
       "<table border=\"1\" class=\"dataframe\">\n",
       "  <thead>\n",
       "    <tr style=\"text-align: right;\">\n",
       "      <th></th>\n",
       "      <th>number</th>\n",
       "      <th>pokemon_name</th>\n",
       "      <th>pic_url</th>\n",
       "      <th>main_type</th>\n",
       "      <th>secondary_type</th>\n",
       "      <th>region</th>\n",
       "      <th>category</th>\n",
       "      <th>height</th>\n",
       "      <th>weight</th>\n",
       "      <th>pokemon_family</th>\n",
       "      <th>...</th>\n",
       "      <th>resistance</th>\n",
       "      <th>weakness</th>\n",
       "      <th>wild_avail</th>\n",
       "      <th>egg_avail</th>\n",
       "      <th>raid_avail</th>\n",
       "      <th>research_avail</th>\n",
       "      <th>shiny</th>\n",
       "      <th>shadow</th>\n",
       "      <th>pkedex_desc</th>\n",
       "      <th>poss_attacks</th>\n",
       "    </tr>\n",
       "  </thead>\n",
       "  <tbody>\n",
       "    <tr>\n",
       "      <th>0</th>\n",
       "      <td>1</td>\n",
       "      <td>Bulbasaur</td>\n",
       "      <td>https://static.wikia.nocookie.net/pokemongo/im...</td>\n",
       "      <td>Grass</td>\n",
       "      <td>Poison</td>\n",
       "      <td>Kanto</td>\n",
       "      <td>Seed</td>\n",
       "      <td>0.7 m</td>\n",
       "      <td>6.9 kg</td>\n",
       "      <td>Bulbasaur family</td>\n",
       "      <td>...</td>\n",
       "      <td>{'62.5%': ['Electric', 'Fairy', 'Fighting', 'W...</td>\n",
       "      <td>{'160%': ['Fire', 'Flying', 'Ice', 'Psychic']}</td>\n",
       "      <td>Yes</td>\n",
       "      <td>No</td>\n",
       "      <td>Formerly  (1st tier level)</td>\n",
       "      <td>Yes</td>\n",
       "      <td>Yes</td>\n",
       "      <td>Yes</td>\n",
       "      <td>Bulbasaur can be seen napping in bright sunlig...</td>\n",
       "      <td>['Tackle', 'Vine Whip', 'Power Whip', 'Seed Bo...</td>\n",
       "    </tr>\n",
       "    <tr>\n",
       "      <th>1</th>\n",
       "      <td>2</td>\n",
       "      <td>Ivysaur</td>\n",
       "      <td>https://static.wikia.nocookie.net/pokemongo/im...</td>\n",
       "      <td>Grass</td>\n",
       "      <td>Poison</td>\n",
       "      <td>Kanto</td>\n",
       "      <td>Seed</td>\n",
       "      <td>1 m</td>\n",
       "      <td>13 kg</td>\n",
       "      <td>Bulbasaur family</td>\n",
       "      <td>...</td>\n",
       "      <td>{'62.5%': ['Electric', 'Fairy', 'Fighting', 'W...</td>\n",
       "      <td>{'160%': ['Fire', 'Flying', 'Ice', 'Psychic']}</td>\n",
       "      <td>Yes</td>\n",
       "      <td>No</td>\n",
       "      <td>Formerly  (1st tier level)</td>\n",
       "      <td>No</td>\n",
       "      <td>Yes</td>\n",
       "      <td>Yes</td>\n",
       "      <td>There is a bud on this Pokémon's back. To supp...</td>\n",
       "      <td>['Razor Leaf', 'Vine Whip', 'Power Whip', 'Slu...</td>\n",
       "    </tr>\n",
       "    <tr>\n",
       "      <th>2</th>\n",
       "      <td>3</td>\n",
       "      <td>Venusaur</td>\n",
       "      <td>https://static.wikia.nocookie.net/pokemongo/im...</td>\n",
       "      <td>Grass</td>\n",
       "      <td>Poison</td>\n",
       "      <td>Kanto</td>\n",
       "      <td>Seed</td>\n",
       "      <td>2 m</td>\n",
       "      <td>100 kg</td>\n",
       "      <td>Bulbasaur family</td>\n",
       "      <td>...</td>\n",
       "      <td>{'62.5%': ['Electric', 'Fairy', 'Fighting', 'W...</td>\n",
       "      <td>{'160%': ['Fire', 'Flying', 'Ice', 'Psychic']}</td>\n",
       "      <td>Yes</td>\n",
       "      <td>No</td>\n",
       "      <td>Formerly  (3rd tier level)</td>\n",
       "      <td>Formerly</td>\n",
       "      <td>Yes</td>\n",
       "      <td>Yes</td>\n",
       "      <td>Standard Pokédex description\\nThere is a large...</td>\n",
       "      <td>['Razor Leaf', 'Vine Whip', 'Petal Blizzard', ...</td>\n",
       "    </tr>\n",
       "    <tr>\n",
       "      <th>3</th>\n",
       "      <td>4</td>\n",
       "      <td>Charmander</td>\n",
       "      <td>https://static.wikia.nocookie.net/pokemongo/im...</td>\n",
       "      <td>Fire</td>\n",
       "      <td>NaN</td>\n",
       "      <td>Kanto</td>\n",
       "      <td>Lizard</td>\n",
       "      <td>0.6 m</td>\n",
       "      <td>8.5 kg</td>\n",
       "      <td>Charmander family</td>\n",
       "      <td>...</td>\n",
       "      <td>{'62.5%': ['Bug', 'Fairy', 'Fire', 'Grass', 'I...</td>\n",
       "      <td>{'160%': ['Ground', 'Rock', 'Water']}</td>\n",
       "      <td>Yes</td>\n",
       "      <td>No</td>\n",
       "      <td>Formerly  (1st tier level)</td>\n",
       "      <td>Yes</td>\n",
       "      <td>Yes</td>\n",
       "      <td>Yes</td>\n",
       "      <td>The flame that burns at the tip of its tail is...</td>\n",
       "      <td>['Ember', 'Scratch', 'Flame Burst', 'Flame Cha...</td>\n",
       "    </tr>\n",
       "    <tr>\n",
       "      <th>4</th>\n",
       "      <td>5</td>\n",
       "      <td>Charmeleon</td>\n",
       "      <td>https://static.wikia.nocookie.net/pokemongo/im...</td>\n",
       "      <td>Fire</td>\n",
       "      <td>NaN</td>\n",
       "      <td>Kanto</td>\n",
       "      <td>Flame</td>\n",
       "      <td>1.1 m</td>\n",
       "      <td>19 kg</td>\n",
       "      <td>Charmander family</td>\n",
       "      <td>...</td>\n",
       "      <td>{'62.5%': ['Bug', 'Fairy', 'Fire', 'Grass', 'I...</td>\n",
       "      <td>{'160%': ['Ground', 'Rock', 'Water']}</td>\n",
       "      <td>Yes</td>\n",
       "      <td>No</td>\n",
       "      <td>Formerly  (2nd tier level)</td>\n",
       "      <td>Formerly</td>\n",
       "      <td>Yes</td>\n",
       "      <td>Yes</td>\n",
       "      <td>Charmeleon mercilessly destroys its foes using...</td>\n",
       "      <td>['Ember', 'Fire Fang', 'Scratch', 'Fire Punch'...</td>\n",
       "    </tr>\n",
       "  </tbody>\n",
       "</table>\n",
       "<p>5 rows × 29 columns</p>\n",
       "</div>"
      ],
      "text/plain": [
       "   number pokemon_name                                            pic_url  \\\n",
       "0       1    Bulbasaur  https://static.wikia.nocookie.net/pokemongo/im...   \n",
       "1       2      Ivysaur  https://static.wikia.nocookie.net/pokemongo/im...   \n",
       "2       3     Venusaur  https://static.wikia.nocookie.net/pokemongo/im...   \n",
       "3       4   Charmander  https://static.wikia.nocookie.net/pokemongo/im...   \n",
       "4       5   Charmeleon  https://static.wikia.nocookie.net/pokemongo/im...   \n",
       "\n",
       "  main_type secondary_type region category height  weight     pokemon_family  \\\n",
       "0     Grass         Poison  Kanto     Seed  0.7 m  6.9 kg   Bulbasaur family   \n",
       "1     Grass         Poison  Kanto     Seed    1 m   13 kg   Bulbasaur family   \n",
       "2     Grass         Poison  Kanto     Seed    2 m  100 kg   Bulbasaur family   \n",
       "3      Fire            NaN  Kanto   Lizard  0.6 m  8.5 kg  Charmander family   \n",
       "4      Fire            NaN  Kanto    Flame  1.1 m   19 kg  Charmander family   \n",
       "\n",
       "   ...                                         resistance  \\\n",
       "0  ...  {'62.5%': ['Electric', 'Fairy', 'Fighting', 'W...   \n",
       "1  ...  {'62.5%': ['Electric', 'Fairy', 'Fighting', 'W...   \n",
       "2  ...  {'62.5%': ['Electric', 'Fairy', 'Fighting', 'W...   \n",
       "3  ...  {'62.5%': ['Bug', 'Fairy', 'Fire', 'Grass', 'I...   \n",
       "4  ...  {'62.5%': ['Bug', 'Fairy', 'Fire', 'Grass', 'I...   \n",
       "\n",
       "                                         weakness  wild_avail egg_avail  \\\n",
       "0  {'160%': ['Fire', 'Flying', 'Ice', 'Psychic']}        Yes         No   \n",
       "1  {'160%': ['Fire', 'Flying', 'Ice', 'Psychic']}        Yes         No   \n",
       "2  {'160%': ['Fire', 'Flying', 'Ice', 'Psychic']}        Yes         No   \n",
       "3           {'160%': ['Ground', 'Rock', 'Water']}        Yes         No   \n",
       "4           {'160%': ['Ground', 'Rock', 'Water']}        Yes         No   \n",
       "\n",
       "                   raid_avail research_avail shiny shadow  \\\n",
       "0  Formerly  (1st tier level)           Yes    Yes    Yes   \n",
       "1  Formerly  (1st tier level)             No   Yes    Yes   \n",
       "2  Formerly  (3rd tier level)      Formerly    Yes    Yes   \n",
       "3  Formerly  (1st tier level)           Yes    Yes    Yes   \n",
       "4  Formerly  (2nd tier level)      Formerly    Yes    Yes   \n",
       "\n",
       "                                         pkedex_desc  \\\n",
       "0  Bulbasaur can be seen napping in bright sunlig...   \n",
       "1  There is a bud on this Pokémon's back. To supp...   \n",
       "2  Standard Pokédex description\\nThere is a large...   \n",
       "3  The flame that burns at the tip of its tail is...   \n",
       "4  Charmeleon mercilessly destroys its foes using...   \n",
       "\n",
       "                                        poss_attacks  \n",
       "0  ['Tackle', 'Vine Whip', 'Power Whip', 'Seed Bo...  \n",
       "1  ['Razor Leaf', 'Vine Whip', 'Power Whip', 'Slu...  \n",
       "2  ['Razor Leaf', 'Vine Whip', 'Petal Blizzard', ...  \n",
       "3  ['Ember', 'Scratch', 'Flame Burst', 'Flame Cha...  \n",
       "4  ['Ember', 'Fire Fang', 'Scratch', 'Fire Punch'...  \n",
       "\n",
       "[5 rows x 29 columns]"
      ]
     },
     "execution_count": 3,
     "metadata": {},
     "output_type": "execute_result"
    }
   ],
   "source": [
    "data.head()"
   ]
  },
  {
   "cell_type": "code",
   "execution_count": 4,
   "id": "d2d841bc-37ac-4f37-8bc2-bb4b698c130a",
   "metadata": {},
   "outputs": [
    {
     "data": {
      "text/plain": [
       "(770, 29)"
      ]
     },
     "execution_count": 4,
     "metadata": {},
     "output_type": "execute_result"
    }
   ],
   "source": [
    "data.shape"
   ]
  },
  {
   "cell_type": "markdown",
   "id": "5f5e9a92-ad2f-49b6-ac03-ef0d84e3e008",
   "metadata": {},
   "source": [
    "Top 10 families of pokemon"
   ]
  },
  {
   "cell_type": "code",
   "execution_count": 5,
   "id": "d7a43ed9-6afd-454b-8412-3ca162238c2b",
   "metadata": {},
   "outputs": [],
   "source": [
    "family=data['pokemon_family'].value_counts()[:10]"
   ]
  },
  {
   "cell_type": "code",
   "execution_count": 6,
   "id": "7c3a68b0-c32a-43e6-9caf-ef8b2b340cf8",
   "metadata": {},
   "outputs": [
    {
     "data": {
      "image/png": "[encoded data removed]",
      "text/plain": [
       "<Figure size 432x288 with 1 Axes>"
      ]
     },
     "metadata": {
      "needs_background": "light"
     },
     "output_type": "display_data"
    }
   ],
   "source": [
    "sns.barplot(x=family.index,y=family.values)\n",
    "plt.xticks(rotation=90)\n",
    "plt.show()"
   ]
  },
  {
   "cell_type": "markdown",
   "id": "57fba0a4-9274-47ad-bbd5-919dd23b2c72",
   "metadata": {},
   "source": [
    "scatter plot for attack vs stamina & scatter plot for defense vs stamina"
   ]
  },
  {
   "cell_type": "code",
   "execution_count": 7,
   "id": "b685561f-32af-4ef8-9e46-43447df5f791",
   "metadata": {},
   "outputs": [
    {
     "data": {
      "text/plain": [
       "<AxesSubplot: xlabel='defense', ylabel='attack'>"
      ]
     },
     "execution_count": 7,
     "metadata": {},
     "output_type": "execute_result"
    },
    {
     "data": {
      "image/png": "[encoded data removed]",
      "text/plain": [
       "<Figure size 864x432 with 2 Axes>"
      ]
     },
     "metadata": {
      "needs_background": "light"
     },
     "output_type": "display_data"
    }
   ],
   "source": [
    "fig, ax = plt.subplots(1,2,figsize=(12,6))\n",
    "sns.scatterplot(x=data.attack,y=data.stamina,ax=ax[0])\n",
    "ax[0].set_xlabel('attack')\n",
    "ax[0].set_ylabel('stamina')\n",
    "sns.scatterplot(x=data.defense,y=data.attack,ax=ax[1])"
   ]
  },
  {
   "cell_type": "markdown",
   "id": "25b46c8a-d0ba-4b52-877c-771bdb9aae9e",
   "metadata": {},
   "source": [
    "top 10 pokemon with high attack ratio"
   ]
  },
  {
   "cell_type": "code",
   "execution_count": 8,
   "id": "9688178d-cfed-4287-9860-91177c809304",
   "metadata": {},
   "outputs": [
    {
     "name": "stderr",
     "output_type": "stream",
     "text": [
      "C:\\Users\\jijin\\AppData\\Local\\Temp\\ipykernel_5284\\4056838193.py:1: FutureWarning: Indexing with multiple keys (implicitly converted to a tuple of keys) will be deprecated, use a list instead.\n",
      "  total=data.groupby('pokemon_family')['attack','stamina','defense'].mean().sort_values(by='attack',ascending=False)[:10]\n"
     ]
    }
   ],
   "source": [
    "total=data.groupby('pokemon_family')['attack','stamina','defense'].mean().sort_values(by='attack',ascending=False)[:10]"
   ]
  },
  {
   "cell_type": "code",
   "execution_count": 9,
   "id": "f3d080ca-644e-4ea2-b1ca-14afbb8d4a09",
   "metadata": {},
   "outputs": [
    {
     "data": {
      "text/html": [
       "<div>\n",
       "<style scoped>\n",
       "    .dataframe tbody tr th:only-of-type {\n",
       "        vertical-align: middle;\n",
       "    }\n",
       "\n",
       "    .dataframe tbody tr th {\n",
       "        vertical-align: top;\n",
       "    }\n",
       "\n",
       "    .dataframe thead th {\n",
       "        text-align: right;\n",
       "    }\n",
       "</style>\n",
       "<table border=\"1\" class=\"dataframe\">\n",
       "  <thead>\n",
       "    <tr style=\"text-align: right;\">\n",
       "      <th></th>\n",
       "      <th>attack</th>\n",
       "      <th>stamina</th>\n",
       "      <th>defense</th>\n",
       "    </tr>\n",
       "    <tr>\n",
       "      <th>pokemon_family</th>\n",
       "      <th></th>\n",
       "      <th></th>\n",
       "      <th></th>\n",
       "    </tr>\n",
       "  </thead>\n",
       "  <tbody>\n",
       "    <tr>\n",
       "      <th>Deoxys family</th>\n",
       "      <td>345.0</td>\n",
       "      <td>137.0</td>\n",
       "      <td>115.0</td>\n",
       "    </tr>\n",
       "    <tr>\n",
       "      <th>Mewtwo family</th>\n",
       "      <td>300.0</td>\n",
       "      <td>214.0</td>\n",
       "      <td>182.0</td>\n",
       "    </tr>\n",
       "    <tr>\n",
       "      <th>Regigigas family</th>\n",
       "      <td>287.0</td>\n",
       "      <td>221.0</td>\n",
       "      <td>210.0</td>\n",
       "    </tr>\n",
       "    <tr>\n",
       "      <th>Darkrai family</th>\n",
       "      <td>285.0</td>\n",
       "      <td>172.0</td>\n",
       "      <td>198.0</td>\n",
       "    </tr>\n",
       "    <tr>\n",
       "      <th>Rayquaza family</th>\n",
       "      <td>284.0</td>\n",
       "      <td>213.0</td>\n",
       "      <td>170.0</td>\n",
       "    </tr>\n",
       "    <tr>\n",
       "      <th>Palkia family</th>\n",
       "      <td>280.0</td>\n",
       "      <td>189.0</td>\n",
       "      <td>215.0</td>\n",
       "    </tr>\n",
       "    <tr>\n",
       "      <th>Zekrom family</th>\n",
       "      <td>275.0</td>\n",
       "      <td>205.0</td>\n",
       "      <td>211.0</td>\n",
       "    </tr>\n",
       "    <tr>\n",
       "      <th>Dialga family</th>\n",
       "      <td>275.0</td>\n",
       "      <td>205.0</td>\n",
       "      <td>211.0</td>\n",
       "    </tr>\n",
       "    <tr>\n",
       "      <th>Reshiram family</th>\n",
       "      <td>275.0</td>\n",
       "      <td>205.0</td>\n",
       "      <td>211.0</td>\n",
       "    </tr>\n",
       "    <tr>\n",
       "      <th>Azelf family</th>\n",
       "      <td>270.0</td>\n",
       "      <td>181.0</td>\n",
       "      <td>151.0</td>\n",
       "    </tr>\n",
       "  </tbody>\n",
       "</table>\n",
       "</div>"
      ],
      "text/plain": [
       "                  attack  stamina  defense\n",
       "pokemon_family                            \n",
       "Deoxys family      345.0    137.0    115.0\n",
       "Mewtwo family      300.0    214.0    182.0\n",
       "Regigigas family   287.0    221.0    210.0\n",
       "Darkrai family     285.0    172.0    198.0\n",
       "Rayquaza family    284.0    213.0    170.0\n",
       "Palkia family      280.0    189.0    215.0\n",
       "Zekrom family      275.0    205.0    211.0\n",
       "Dialga family      275.0    205.0    211.0\n",
       "Reshiram family    275.0    205.0    211.0\n",
       "Azelf family       270.0    181.0    151.0"
      ]
     },
     "execution_count": 9,
     "metadata": {},
     "output_type": "execute_result"
    }
   ],
   "source": [
    "total"
   ]
  },
  {
   "cell_type": "code",
   "execution_count": 10,
   "id": "21ef42a5-9a35-42ab-a3cd-9c699311ce61",
   "metadata": {},
   "outputs": [],
   "source": [
    "x=[]\n",
    "for i in data.weight.to_list():\n",
    "    val =round(float(i.strip().split()[0]))\n",
    "    x.append(val)"
   ]
  },
  {
   "cell_type": "code",
   "execution_count": 11,
   "id": "bc07c5c3-74a1-4073-af37-8097e0948549",
   "metadata": {},
   "outputs": [],
   "source": [
    "data['kg']=x"
   ]
  },
  {
   "cell_type": "code",
   "execution_count": 12,
   "id": "d1e85b44-4b8b-451f-8b67-754e4012b48b",
   "metadata": {},
   "outputs": [],
   "source": [
    "ratio = data.kg/data.attack"
   ]
  },
  {
   "cell_type": "code",
   "execution_count": 13,
   "id": "d5b9ae97-6832-495e-96ca-e3939371f76d",
   "metadata": {},
   "outputs": [],
   "source": [
    "data['attack_r']=ratio"
   ]
  },
  {
   "cell_type": "code",
   "execution_count": 14,
   "id": "4595749e-f176-44c6-81c6-d107442330d5",
   "metadata": {
    "tags": []
   },
   "outputs": [
    {
     "data": {
      "text/html": [
       "<div>\n",
       "<style scoped>\n",
       "    .dataframe tbody tr th:only-of-type {\n",
       "        vertical-align: middle;\n",
       "    }\n",
       "\n",
       "    .dataframe tbody tr th {\n",
       "        vertical-align: top;\n",
       "    }\n",
       "\n",
       "    .dataframe thead th {\n",
       "        text-align: right;\n",
       "    }\n",
       "</style>\n",
       "<table border=\"1\" class=\"dataframe\">\n",
       "  <thead>\n",
       "    <tr style=\"text-align: right;\">\n",
       "      <th></th>\n",
       "      <th>number</th>\n",
       "      <th>pokemon_name</th>\n",
       "      <th>pic_url</th>\n",
       "      <th>main_type</th>\n",
       "      <th>secondary_type</th>\n",
       "      <th>region</th>\n",
       "      <th>category</th>\n",
       "      <th>height</th>\n",
       "      <th>weight</th>\n",
       "      <th>pokemon_family</th>\n",
       "      <th>...</th>\n",
       "      <th>wild_avail</th>\n",
       "      <th>egg_avail</th>\n",
       "      <th>raid_avail</th>\n",
       "      <th>research_avail</th>\n",
       "      <th>shiny</th>\n",
       "      <th>shadow</th>\n",
       "      <th>pkedex_desc</th>\n",
       "      <th>poss_attacks</th>\n",
       "      <th>kg</th>\n",
       "      <th>attack_r</th>\n",
       "    </tr>\n",
       "  </thead>\n",
       "  <tbody>\n",
       "    <tr>\n",
       "      <th>486</th>\n",
       "      <td>487</td>\n",
       "      <td>Giratina</td>\n",
       "      <td>https://static.wikia.nocookie.net/pokemongo/im...</td>\n",
       "      <td>Ghost</td>\n",
       "      <td>Dragon</td>\n",
       "      <td>Sinnoh</td>\n",
       "      <td>Renegade</td>\n",
       "      <td>4.5 m</td>\n",
       "      <td>750 kg</td>\n",
       "      <td>Giratina family</td>\n",
       "      <td>...</td>\n",
       "      <td>No</td>\n",
       "      <td>No</td>\n",
       "      <td>Formerly  (5th tier level)</td>\n",
       "      <td>No</td>\n",
       "      <td>Yes</td>\n",
       "      <td>No</td>\n",
       "      <td>It was banished for its violence. It silently ...</td>\n",
       "      <td>['Dragon Breath', 'Shadow Claw', 'Ancient Powe...</td>\n",
       "      <td>750</td>\n",
       "      <td>4.010695</td>\n",
       "    </tr>\n",
       "    <tr>\n",
       "      <th>756</th>\n",
       "      <td>809</td>\n",
       "      <td>Melmetal</td>\n",
       "      <td>https://static.wikia.nocookie.net/pokemongo/im...</td>\n",
       "      <td>Steel</td>\n",
       "      <td>NaN</td>\n",
       "      <td>Unknown</td>\n",
       "      <td>Hex</td>\n",
       "      <td>2.5 m</td>\n",
       "      <td>800 kg</td>\n",
       "      <td>Meltan family</td>\n",
       "      <td>...</td>\n",
       "      <td>No</td>\n",
       "      <td>No</td>\n",
       "      <td>No</td>\n",
       "      <td>No</td>\n",
       "      <td>Yes</td>\n",
       "      <td>No</td>\n",
       "      <td>Revered long ago for its capacity to create ir...</td>\n",
       "      <td>['Thunder Shock', 'Flash Cannon', 'Hyper Beam'...</td>\n",
       "      <td>800</td>\n",
       "      <td>3.539823</td>\n",
       "    </tr>\n",
       "    <tr>\n",
       "      <th>382</th>\n",
       "      <td>383</td>\n",
       "      <td>Groudon</td>\n",
       "      <td>https://static.wikia.nocookie.net/pokemongo/im...</td>\n",
       "      <td>Ground</td>\n",
       "      <td>NaN</td>\n",
       "      <td>Hoenn</td>\n",
       "      <td>Continent</td>\n",
       "      <td>3.51 m</td>\n",
       "      <td>950 kg</td>\n",
       "      <td>Groudon family</td>\n",
       "      <td>...</td>\n",
       "      <td>No</td>\n",
       "      <td>No</td>\n",
       "      <td>Formerly  (5th tier level)</td>\n",
       "      <td>No</td>\n",
       "      <td>Yes</td>\n",
       "      <td>No</td>\n",
       "      <td>Standard Pokédex description\\nGroudon is said ...</td>\n",
       "      <td>['Dragon Tail', 'Mud Shot', 'Earthquake', 'Fir...</td>\n",
       "      <td>950</td>\n",
       "      <td>3.518519</td>\n",
       "    </tr>\n",
       "    <tr>\n",
       "      <th>717</th>\n",
       "      <td>718</td>\n",
       "      <td>Zygarde</td>\n",
       "      <td>https://static.wikia.nocookie.net/pokemongo/im...</td>\n",
       "      <td>Dragon</td>\n",
       "      <td>Ground</td>\n",
       "      <td>Kalos</td>\n",
       "      <td>Order</td>\n",
       "      <td>4.5 m</td>\n",
       "      <td>610.0 kg</td>\n",
       "      <td>Zygarde family</td>\n",
       "      <td>...</td>\n",
       "      <td>No</td>\n",
       "      <td>No</td>\n",
       "      <td>No</td>\n",
       "      <td>No</td>\n",
       "      <td>No</td>\n",
       "      <td>No</td>\n",
       "      <td>Standard Pokédex description\\nWhen the Kalos r...</td>\n",
       "      <td>['Bite', 'Dragon Tail', 'Zen Headbutt', 'Bulld...</td>\n",
       "      <td>610</td>\n",
       "      <td>3.004926</td>\n",
       "    </tr>\n",
       "    <tr>\n",
       "      <th>207</th>\n",
       "      <td>208</td>\n",
       "      <td>Steelix</td>\n",
       "      <td>https://static.wikia.nocookie.net/pokemongo/im...</td>\n",
       "      <td>Steel</td>\n",
       "      <td>Ground</td>\n",
       "      <td>Johto</td>\n",
       "      <td>Iron</td>\n",
       "      <td>9.2 m</td>\n",
       "      <td>400 kg</td>\n",
       "      <td>Onix family</td>\n",
       "      <td>...</td>\n",
       "      <td>No</td>\n",
       "      <td>No</td>\n",
       "      <td>No</td>\n",
       "      <td>No</td>\n",
       "      <td>Yes</td>\n",
       "      <td>No</td>\n",
       "      <td>Standard Pokédex description\\nSteelix lives ev...</td>\n",
       "      <td>['Dragon Tail', 'Iron Tail', 'Thunder Fang', '...</td>\n",
       "      <td>400</td>\n",
       "      <td>2.702703</td>\n",
       "    </tr>\n",
       "    <tr>\n",
       "      <th>712</th>\n",
       "      <td>713</td>\n",
       "      <td>Avalugg</td>\n",
       "      <td>https://static.wikia.nocookie.net/pokemongo/im...</td>\n",
       "      <td>Ice</td>\n",
       "      <td>NaN</td>\n",
       "      <td>Kalos</td>\n",
       "      <td>Iceberg</td>\n",
       "      <td>2.0 m</td>\n",
       "      <td>505.0 kg</td>\n",
       "      <td>Bergmite family</td>\n",
       "      <td>...</td>\n",
       "      <td>No</td>\n",
       "      <td>No</td>\n",
       "      <td>No</td>\n",
       "      <td>No</td>\n",
       "      <td>No</td>\n",
       "      <td>No</td>\n",
       "      <td>Its ice-covered body is as hard as steel. Its ...</td>\n",
       "      <td>['Bite', 'Ice Fang', 'Avalanche', 'Body Slam',...</td>\n",
       "      <td>505</td>\n",
       "      <td>2.576531</td>\n",
       "    </tr>\n",
       "    <tr>\n",
       "      <th>475</th>\n",
       "      <td>476</td>\n",
       "      <td>Probopass</td>\n",
       "      <td>https://static.wikia.nocookie.net/pokemongo/im...</td>\n",
       "      <td>Rock</td>\n",
       "      <td>Steel</td>\n",
       "      <td>Sinnoh</td>\n",
       "      <td>Compass</td>\n",
       "      <td>1.4 m</td>\n",
       "      <td>340 kg</td>\n",
       "      <td>Nosepass family</td>\n",
       "      <td>...</td>\n",
       "      <td>No</td>\n",
       "      <td>No</td>\n",
       "      <td>No</td>\n",
       "      <td>No</td>\n",
       "      <td>Yes</td>\n",
       "      <td>Yes</td>\n",
       "      <td>It uses three small units to catch prey and ba...</td>\n",
       "      <td>['Rock Throw', 'Spark', 'Magnet Bomb', 'Rock S...</td>\n",
       "      <td>340</td>\n",
       "      <td>2.518519</td>\n",
       "    </tr>\n",
       "    <tr>\n",
       "      <th>482</th>\n",
       "      <td>483</td>\n",
       "      <td>Dialga</td>\n",
       "      <td>https://static.wikia.nocookie.net/pokemongo/im...</td>\n",
       "      <td>Steel</td>\n",
       "      <td>Dragon</td>\n",
       "      <td>Sinnoh</td>\n",
       "      <td>Temporal</td>\n",
       "      <td>5.4 m</td>\n",
       "      <td>683 kg</td>\n",
       "      <td>Dialga family</td>\n",
       "      <td>...</td>\n",
       "      <td>No</td>\n",
       "      <td>No</td>\n",
       "      <td>Formerly  (5th tier level)</td>\n",
       "      <td>No</td>\n",
       "      <td>Yes</td>\n",
       "      <td>No</td>\n",
       "      <td>It has the power to control time. It appears i...</td>\n",
       "      <td>['Dragon Breath', 'Metal Claw', 'Draco Meteor'...</td>\n",
       "      <td>683</td>\n",
       "      <td>2.483636</td>\n",
       "    </tr>\n",
       "    <tr>\n",
       "      <th>94</th>\n",
       "      <td>95</td>\n",
       "      <td>Onix</td>\n",
       "      <td>https://static.wikia.nocookie.net/pokemongo/im...</td>\n",
       "      <td>Rock</td>\n",
       "      <td>Ground</td>\n",
       "      <td>Kanto</td>\n",
       "      <td>Rock</td>\n",
       "      <td>8.8 m</td>\n",
       "      <td>210 kg</td>\n",
       "      <td>Onix family</td>\n",
       "      <td>...</td>\n",
       "      <td>Yes</td>\n",
       "      <td>No</td>\n",
       "      <td>Formerly  (1st tier level)</td>\n",
       "      <td>Yes</td>\n",
       "      <td>Yes</td>\n",
       "      <td>No</td>\n",
       "      <td>Onix has a magnet in its brain. It acts as a c...</td>\n",
       "      <td>['Rock Throw', 'Tackle', 'Heavy Slam', 'Sand T...</td>\n",
       "      <td>210</td>\n",
       "      <td>2.470588</td>\n",
       "    </tr>\n",
       "    <tr>\n",
       "      <th>142</th>\n",
       "      <td>143</td>\n",
       "      <td>Snorlax</td>\n",
       "      <td>https://static.wikia.nocookie.net/pokemongo/im...</td>\n",
       "      <td>Normal</td>\n",
       "      <td>NaN</td>\n",
       "      <td>Kanto</td>\n",
       "      <td>Sleeping</td>\n",
       "      <td>2.1 m</td>\n",
       "      <td>460 kg</td>\n",
       "      <td>Snorlax family</td>\n",
       "      <td>...</td>\n",
       "      <td>Yes</td>\n",
       "      <td>No</td>\n",
       "      <td>Formerly  (3rd tier level)</td>\n",
       "      <td>Formerly</td>\n",
       "      <td>Yes</td>\n",
       "      <td>Yes</td>\n",
       "      <td>Snorlax's typical day consists of nothing more...</td>\n",
       "      <td>['Lick', 'Zen Headbutt', 'Yawn', 'Body Slam', ...</td>\n",
       "      <td>460</td>\n",
       "      <td>2.421053</td>\n",
       "    </tr>\n",
       "  </tbody>\n",
       "</table>\n",
       "<p>10 rows × 31 columns</p>\n",
       "</div>"
      ],
      "text/plain": [
       "     number pokemon_name                                            pic_url  \\\n",
       "486     487     Giratina  https://static.wikia.nocookie.net/pokemongo/im...   \n",
       "756     809     Melmetal  https://static.wikia.nocookie.net/pokemongo/im...   \n",
       "382     383      Groudon  https://static.wikia.nocookie.net/pokemongo/im...   \n",
       "717     718      Zygarde  https://static.wikia.nocookie.net/pokemongo/im...   \n",
       "207     208      Steelix  https://static.wikia.nocookie.net/pokemongo/im...   \n",
       "712     713      Avalugg  https://static.wikia.nocookie.net/pokemongo/im...   \n",
       "475     476    Probopass  https://static.wikia.nocookie.net/pokemongo/im...   \n",
       "482     483       Dialga  https://static.wikia.nocookie.net/pokemongo/im...   \n",
       "94       95         Onix  https://static.wikia.nocookie.net/pokemongo/im...   \n",
       "142     143      Snorlax  https://static.wikia.nocookie.net/pokemongo/im...   \n",
       "\n",
       "    main_type secondary_type   region   category  height    weight  \\\n",
       "486     Ghost         Dragon   Sinnoh   Renegade   4.5 m    750 kg   \n",
       "756     Steel            NaN  Unknown        Hex   2.5 m    800 kg   \n",
       "382    Ground            NaN    Hoenn  Continent  3.51 m    950 kg   \n",
       "717    Dragon         Ground    Kalos      Order   4.5 m  610.0 kg   \n",
       "207     Steel         Ground    Johto       Iron   9.2 m    400 kg   \n",
       "712       Ice            NaN    Kalos    Iceberg   2.0 m  505.0 kg   \n",
       "475      Rock          Steel   Sinnoh    Compass   1.4 m    340 kg   \n",
       "482     Steel         Dragon   Sinnoh   Temporal   5.4 m    683 kg   \n",
       "94       Rock         Ground    Kanto       Rock   8.8 m    210 kg   \n",
       "142    Normal            NaN    Kanto   Sleeping   2.1 m    460 kg   \n",
       "\n",
       "      pokemon_family  ...  wild_avail  egg_avail                  raid_avail  \\\n",
       "486  Giratina family  ...         No          No  Formerly  (5th tier level)   \n",
       "756    Meltan family  ...         No          No                        No     \n",
       "382   Groudon family  ...         No          No  Formerly  (5th tier level)   \n",
       "717   Zygarde family  ...         No          No                        No     \n",
       "207      Onix family  ...         No          No                        No     \n",
       "712  Bergmite family  ...         No          No                        No     \n",
       "475  Nosepass family  ...         No          No                        No     \n",
       "482    Dialga family  ...         No          No  Formerly  (5th tier level)   \n",
       "94       Onix family  ...        Yes          No  Formerly  (1st tier level)   \n",
       "142   Snorlax family  ...        Yes          No  Formerly  (3rd tier level)   \n",
       "\n",
       "    research_avail shiny shadow  \\\n",
       "486             No   Yes     No   \n",
       "756             No   Yes     No   \n",
       "382             No   Yes     No   \n",
       "717             No    No     No   \n",
       "207             No   Yes     No   \n",
       "712             No    No     No   \n",
       "475             No   Yes    Yes   \n",
       "482             No   Yes     No   \n",
       "94            Yes    Yes     No   \n",
       "142      Formerly    Yes    Yes   \n",
       "\n",
       "                                           pkedex_desc  \\\n",
       "486  It was banished for its violence. It silently ...   \n",
       "756  Revered long ago for its capacity to create ir...   \n",
       "382  Standard Pokédex description\\nGroudon is said ...   \n",
       "717  Standard Pokédex description\\nWhen the Kalos r...   \n",
       "207  Standard Pokédex description\\nSteelix lives ev...   \n",
       "712  Its ice-covered body is as hard as steel. Its ...   \n",
       "475  It uses three small units to catch prey and ba...   \n",
       "482  It has the power to control time. It appears i...   \n",
       "94   Onix has a magnet in its brain. It acts as a c...   \n",
       "142  Snorlax's typical day consists of nothing more...   \n",
       "\n",
       "                                          poss_attacks   kg  attack_r  \n",
       "486  ['Dragon Breath', 'Shadow Claw', 'Ancient Powe...  750  4.010695  \n",
       "756  ['Thunder Shock', 'Flash Cannon', 'Hyper Beam'...  800  3.539823  \n",
       "382  ['Dragon Tail', 'Mud Shot', 'Earthquake', 'Fir...  950  3.518519  \n",
       "717  ['Bite', 'Dragon Tail', 'Zen Headbutt', 'Bulld...  610  3.004926  \n",
       "207  ['Dragon Tail', 'Iron Tail', 'Thunder Fang', '...  400  2.702703  \n",
       "712  ['Bite', 'Ice Fang', 'Avalanche', 'Body Slam',...  505  2.576531  \n",
       "475  ['Rock Throw', 'Spark', 'Magnet Bomb', 'Rock S...  340  2.518519  \n",
       "482  ['Dragon Breath', 'Metal Claw', 'Draco Meteor'...  683  2.483636  \n",
       "94   ['Rock Throw', 'Tackle', 'Heavy Slam', 'Sand T...  210  2.470588  \n",
       "142  ['Lick', 'Zen Headbutt', 'Yawn', 'Body Slam', ...  460  2.421053  \n",
       "\n",
       "[10 rows x 31 columns]"
      ]
     },
     "execution_count": 14,
     "metadata": {},
     "output_type": "execute_result"
    }
   ],
   "source": [
    "dummy=data.sort_values('attack_r',ascending=False)[:10]\n",
    "dummy"
   ]
  },
  {
   "cell_type": "code",
   "execution_count": 15,
   "id": "b08e93cd-448e-4535-a911-d18b93b238ba",
   "metadata": {},
   "outputs": [
    {
     "data": {
      "text/plain": [
       "<AxesSubplot: xlabel='pokemon_name', ylabel='attack_r'>"
      ]
     },
     "execution_count": 15,
     "metadata": {},
     "output_type": "execute_result"
    },
    {
     "data": {
      "image/png": "[encoded data removed]",
      "text/plain": [
       "<Figure size 864x576 with 1 Axes>"
      ]
     },
     "metadata": {
      "needs_background": "light"
     },
     "output_type": "display_data"
    }
   ],
   "source": [
    "plt.figure(figsize=(12,8))\n",
    "sns.barplot(x=dummy.pokemon_name,y=dummy.attack_r)"
   ]
  },
  {
   "cell_type": "markdown",
   "id": "dd34f097-8dac-4043-8fca-79cdc709d9f9",
   "metadata": {},
   "source": [
    "Top 10 heavy weighted pokemons"
   ]
  },
  {
   "cell_type": "code",
   "execution_count": 16,
   "id": "a8842ce0-8750-4e9f-acc4-ad588cb52ff8",
   "metadata": {},
   "outputs": [
    {
     "data": {
      "text/plain": [
       "pokemon_name\n",
       "Groudon      950.0\n",
       "Melmetal     800.0\n",
       "Giratina     750.0\n",
       "Dialga       683.0\n",
       "Zygarde      610.0\n",
       "Metagross    550.0\n",
       "Avalugg      505.0\n",
       "Snorlax      460.0\n",
       "Heatran      430.0\n",
       "Regigigas    420.0\n",
       "Name: kg, dtype: float64"
      ]
     },
     "execution_count": 16,
     "metadata": {},
     "output_type": "execute_result"
    }
   ],
   "source": [
    "data1=data.groupby('pokemon_name')['kg'].mean().sort_values(ascending=False)[:10]\n",
    "data1"
   ]
  },
  {
   "cell_type": "code",
   "execution_count": 17,
   "id": "b9ffd6a7-c334-4b64-baa2-cb9dcf8c1e5b",
   "metadata": {},
   "outputs": [
    {
     "data": {
      "image/png": "[encoded data removed]",
      "text/plain": [
       "<Figure size 432x288 with 1 Axes>"
      ]
     },
     "metadata": {
      "needs_background": "light"
     },
     "output_type": "display_data"
    }
   ],
   "source": [
    "sns.barplot(x=data1.index,y=data1.values)\n",
    "plt.xticks(rotation=90)\n",
    "plt.show()"
   ]
  },
  {
   "cell_type": "markdown",
   "id": "b2548f3b-ef5f-40cb-82df-b50831baf044",
   "metadata": {},
   "source": [
    "Top 10 largest pokemons"
   ]
  },
  {
   "cell_type": "code",
   "execution_count": 18,
   "id": "b8909683-9846-4b86-9182-4bdb9e0a6da8",
   "metadata": {},
   "outputs": [],
   "source": [
    "y=[]\n",
    "for m in data.height.to_list():\n",
    "    height=float(m.split()[0])\n",
    "    y.append(height)"
   ]
  },
  {
   "cell_type": "code",
   "execution_count": 19,
   "id": "4f1eb1bd-59d3-4e27-bcec-c4a42e5d002e",
   "metadata": {},
   "outputs": [],
   "source": [
    "data['metre']=y"
   ]
  },
  {
   "cell_type": "code",
   "execution_count": 20,
   "id": "869b35c2-4129-42dc-9c8f-fe5c0675e70f",
   "metadata": {},
   "outputs": [],
   "source": [
    "height_pk=data.groupby('pokemon_name')['metre'].mean().sort_values(ascending=False)[:10]"
   ]
  },
  {
   "cell_type": "code",
   "execution_count": 21,
   "id": "579d372d-ef93-4d81-a919-f45942561b3d",
   "metadata": {},
   "outputs": [
    {
     "data": {
      "text/plain": [
       "pokemon_name\n",
       "Wailord     14.50\n",
       "Steelix      9.20\n",
       "Onix         8.80\n",
       "Rayquaza     7.01\n",
       "Gyarados     6.50\n",
       "Milotic      6.20\n",
       "Yveltal      5.80\n",
       "Dialga       5.40\n",
       "Lugia        5.21\n",
       "Giratina     4.50\n",
       "Name: metre, dtype: float64"
      ]
     },
     "execution_count": 21,
     "metadata": {},
     "output_type": "execute_result"
    }
   ],
   "source": [
    "height_pk"
   ]
  },
  {
   "cell_type": "code",
   "execution_count": 22,
   "id": "0c71625f-e9c4-4b6a-a8de-15fe42f911bc",
   "metadata": {},
   "outputs": [
    {
     "data": {
      "image/png": "[encoded data removed]",
      "text/plain": [
       "<Figure size 432x288 with 1 Axes>"
      ]
     },
     "metadata": {
      "needs_background": "light"
     },
     "output_type": "display_data"
    }
   ],
   "source": [
    "sns.barplot(x=height_pk.index,y=height_pk.values)\n",
    "plt.xticks(rotation=90)\n",
    "plt.show()"
   ]
  },
  {
   "cell_type": "markdown",
   "id": "1c474111-d01c-4458-ab5c-83747ba8e4ff",
   "metadata": {},
   "source": [
    "Regions where pokemons are found"
   ]
  },
  {
   "cell_type": "code",
   "execution_count": 23,
   "id": "64a1b98c-2295-4c2d-a1dd-e5f65bc3cf33",
   "metadata": {},
   "outputs": [],
   "source": [
    "pc=data['region'].value_counts()"
   ]
  },
  {
   "cell_type": "code",
   "execution_count": 24,
   "id": "7ee65e66-ff9a-4dca-a4fc-521c2499106f",
   "metadata": {},
   "outputs": [
    {
     "data": {
      "image/png": "[encoded data removed]",
      "text/plain": [
       "<Figure size 432x288 with 1 Axes>"
      ]
     },
     "metadata": {},
     "output_type": "display_data"
    }
   ],
   "source": [
    "plt.pie(pc,labels=pc.index,autopct = '%1.1f%%', wedgeprops={'width': 0.3})\n",
    "plt.show()"
   ]
  },
  {
   "cell_type": "code",
   "execution_count": 25,
   "id": "6a0de907-7596-48d4-882f-dd8683b6361c",
   "metadata": {},
   "outputs": [
    {
     "data": {
      "text/html": [
       "<div>\n",
       "<style scoped>\n",
       "    .dataframe tbody tr th:only-of-type {\n",
       "        vertical-align: middle;\n",
       "    }\n",
       "\n",
       "    .dataframe tbody tr th {\n",
       "        vertical-align: top;\n",
       "    }\n",
       "\n",
       "    .dataframe thead th {\n",
       "        text-align: right;\n",
       "    }\n",
       "</style>\n",
       "<table border=\"1\" class=\"dataframe\">\n",
       "  <thead>\n",
       "    <tr style=\"text-align: right;\">\n",
       "      <th></th>\n",
       "      <th>number</th>\n",
       "      <th>pokemon_name</th>\n",
       "      <th>pic_url</th>\n",
       "      <th>main_type</th>\n",
       "      <th>secondary_type</th>\n",
       "      <th>region</th>\n",
       "      <th>category</th>\n",
       "      <th>height</th>\n",
       "      <th>weight</th>\n",
       "      <th>pokemon_family</th>\n",
       "      <th>...</th>\n",
       "      <th>egg_avail</th>\n",
       "      <th>raid_avail</th>\n",
       "      <th>research_avail</th>\n",
       "      <th>shiny</th>\n",
       "      <th>shadow</th>\n",
       "      <th>pkedex_desc</th>\n",
       "      <th>poss_attacks</th>\n",
       "      <th>kg</th>\n",
       "      <th>attack_r</th>\n",
       "      <th>metre</th>\n",
       "    </tr>\n",
       "  </thead>\n",
       "  <tbody>\n",
       "    <tr>\n",
       "      <th>0</th>\n",
       "      <td>1</td>\n",
       "      <td>Bulbasaur</td>\n",
       "      <td>https://static.wikia.nocookie.net/pokemongo/im...</td>\n",
       "      <td>Grass</td>\n",
       "      <td>Poison</td>\n",
       "      <td>Kanto</td>\n",
       "      <td>Seed</td>\n",
       "      <td>0.7 m</td>\n",
       "      <td>6.9 kg</td>\n",
       "      <td>Bulbasaur family</td>\n",
       "      <td>...</td>\n",
       "      <td>No</td>\n",
       "      <td>Formerly  (1st tier level)</td>\n",
       "      <td>Yes</td>\n",
       "      <td>Yes</td>\n",
       "      <td>Yes</td>\n",
       "      <td>Bulbasaur can be seen napping in bright sunlig...</td>\n",
       "      <td>['Tackle', 'Vine Whip', 'Power Whip', 'Seed Bo...</td>\n",
       "      <td>7</td>\n",
       "      <td>0.059322</td>\n",
       "      <td>0.7</td>\n",
       "    </tr>\n",
       "    <tr>\n",
       "      <th>1</th>\n",
       "      <td>2</td>\n",
       "      <td>Ivysaur</td>\n",
       "      <td>https://static.wikia.nocookie.net/pokemongo/im...</td>\n",
       "      <td>Grass</td>\n",
       "      <td>Poison</td>\n",
       "      <td>Kanto</td>\n",
       "      <td>Seed</td>\n",
       "      <td>1 m</td>\n",
       "      <td>13 kg</td>\n",
       "      <td>Bulbasaur family</td>\n",
       "      <td>...</td>\n",
       "      <td>No</td>\n",
       "      <td>Formerly  (1st tier level)</td>\n",
       "      <td>No</td>\n",
       "      <td>Yes</td>\n",
       "      <td>Yes</td>\n",
       "      <td>There is a bud on this Pokémon's back. To supp...</td>\n",
       "      <td>['Razor Leaf', 'Vine Whip', 'Power Whip', 'Slu...</td>\n",
       "      <td>13</td>\n",
       "      <td>0.086093</td>\n",
       "      <td>1.0</td>\n",
       "    </tr>\n",
       "  </tbody>\n",
       "</table>\n",
       "<p>2 rows × 32 columns</p>\n",
       "</div>"
      ],
      "text/plain": [
       "   number pokemon_name                                            pic_url  \\\n",
       "0       1    Bulbasaur  https://static.wikia.nocookie.net/pokemongo/im...   \n",
       "1       2      Ivysaur  https://static.wikia.nocookie.net/pokemongo/im...   \n",
       "\n",
       "  main_type secondary_type region category height  weight    pokemon_family  \\\n",
       "0     Grass         Poison  Kanto     Seed  0.7 m  6.9 kg  Bulbasaur family   \n",
       "1     Grass         Poison  Kanto     Seed    1 m   13 kg  Bulbasaur family   \n",
       "\n",
       "   ...  egg_avail                  raid_avail  research_avail shiny shadow  \\\n",
       "0  ...         No  Formerly  (1st tier level)            Yes    Yes    Yes   \n",
       "1  ...         No  Formerly  (1st tier level)              No   Yes    Yes   \n",
       "\n",
       "                                         pkedex_desc  \\\n",
       "0  Bulbasaur can be seen napping in bright sunlig...   \n",
       "1  There is a bud on this Pokémon's back. To supp...   \n",
       "\n",
       "                                        poss_attacks  kg  attack_r metre  \n",
       "0  ['Tackle', 'Vine Whip', 'Power Whip', 'Seed Bo...   7  0.059322   0.7  \n",
       "1  ['Razor Leaf', 'Vine Whip', 'Power Whip', 'Slu...  13  0.086093   1.0  \n",
       "\n",
       "[2 rows x 32 columns]"
      ]
     },
     "execution_count": 25,
     "metadata": {},
     "output_type": "execute_result"
    }
   ],
   "source": [
    "data.head(2)"
   ]
  },
  {
   "cell_type": "markdown",
   "id": "5281db8e-5ccf-46fd-82b1-c0f742c6de0c",
   "metadata": {},
   "source": [
    "jointplot for kg vs attack ratio"
   ]
  },
  {
   "cell_type": "code",
   "execution_count": 26,
   "id": "32fb318a-b49b-49ef-acf8-3fb3a98d3a90",
   "metadata": {},
   "outputs": [
    {
     "data": {
      "text/plain": [
       "<seaborn.axisgrid.JointGrid at 0x1e41f152320>"
      ]
     },
     "execution_count": 26,
     "metadata": {},
     "output_type": "execute_result"
    },
    {
     "data": {
      "image/png": "[encoded data removed]",
      "text/plain": [
       "<Figure size 432x432 with 3 Axes>"
      ]
     },
     "metadata": {
      "needs_background": "light"
     },
     "output_type": "display_data"
    }
   ],
   "source": [
    "sns.jointplot(x=data.kg,y=data.attack_r)"
   ]
  },
  {
   "cell_type": "code",
   "execution_count": 27,
   "id": "9690a86c-e5b0-4ed9-b8c0-6a32da361ab7",
   "metadata": {},
   "outputs": [
    {
     "data": {
      "text/plain": [
       "<AxesSubplot: >"
      ]
     },
     "execution_count": 27,
     "metadata": {},
     "output_type": "execute_result"
    },
    {
     "data": {
      "image/png": "[encoded data removed]",
      "text/plain": [
       "<Figure size 432x288 with 1 Axes>"
      ]
     },
     "metadata": {
      "needs_background": "light"
     },
     "output_type": "display_data"
    }
   ],
   "source": [
    "sns.boxplot(data=data) #barplot to find if there is a outlier in data"
   ]
  },
  {
   "cell_type": "markdown",
   "id": "aa469088-67b5-42db-a55f-80711881341d",
   "metadata": {},
   "source": [
    "Distribution plot for height"
   ]
  },
  {
   "cell_type": "code",
   "execution_count": 28,
   "id": "83549437-f103-4ac4-bbd7-408ab8a6c5e5",
   "metadata": {},
   "outputs": [
    {
     "data": {
      "text/plain": [
       "<AxesSubplot: xlabel='metre', ylabel='Density'>"
      ]
     },
     "execution_count": 28,
     "metadata": {},
     "output_type": "execute_result"
    },
    {
     "data": {
      "image/png": "[encoded data removed]",
      "text/plain": [
       "<Figure size 432x288 with 1 Axes>"
      ]
     },
     "metadata": {
      "needs_background": "light"
     },
     "output_type": "display_data"
    }
   ],
   "source": [
    "sns.kdeplot(data.metre,fill =True)"
   ]
  },
  {
   "cell_type": "code",
   "execution_count": null,
   "id": "ccb342e5-b27d-4fba-a5d7-62a713b47121",
   "metadata": {},
   "outputs": [],
   "source": []
  }
 ],
 "metadata": {
  "kernelspec": {
   "display_name": "Python 3 (ipykernel)",
   "language": "python",
   "name": "python3"
  },
  "language_info": {
   "codemirror_mode": {
    "name": "ipython",
    "version": 3
   },
   "file_extension": ".py",
   "mimetype": "text/x-python",
   "name": "python",
   "nbconvert_exporter": "python",
   "pygments_lexer": "ipython3",
   "version": "3.10.4"
  }
 },
 "nbformat": 4,
 "nbformat_minor": 5
}
